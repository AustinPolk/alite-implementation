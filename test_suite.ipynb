{
 "cells": [
  {
   "cell_type": "code",
   "execution_count": null,
   "metadata": {},
   "outputs": [],
   "source": [
    "from benchmark import Benchmarker\n",
    "import os\n",
    "\n",
    "# folders containing the relevant benchmarks\n",
    "align_benchmark = os.path.join('Benchmark', 'Align Benchmark')\n",
    "integration_benchmark = os.path.join('Benchmark', 'Real Benchmark')\n",
    "\n",
    "# create and run all of the benchmarks\n",
    "benchmarker = Benchmarker()\n",
    "benchmarker.RunBenchmarks(align_benchmark, None)"
   ]
  },
  {
   "cell_type": "code",
   "execution_count": null,
   "metadata": {},
   "outputs": [],
   "source": [
    "import pickle\n",
    "\n",
    "with open(\"benchmarker.bin\", 'wb+') as f:\n",
    "    pickle.dump(benchmarker, f)"
   ]
  },
  {
   "cell_type": "code",
   "execution_count": null,
   "metadata": {},
   "outputs": [],
   "source": [
    "# visualize the runtime of ALITE across multiple datasets\n",
    "benchmarker.VisualizeDuration()"
   ]
  },
  {
   "cell_type": "code",
   "execution_count": null,
   "metadata": {},
   "outputs": [],
   "source": [
    "# visualize the runtime of ALITE versus the number of input tuples in the database\n",
    "benchmarker.VisualizeRuntimePerTuple(inputTuples=True)"
   ]
  },
  {
   "cell_type": "code",
   "execution_count": null,
   "metadata": {},
   "outputs": [],
   "source": [
    "# visualize the runtime of ALITE versus the size of the full disjunction\n",
    "benchmarker.VisualizeRuntimePerTuple(inputTuples=False)"
   ]
  },
  {
   "cell_type": "code",
   "execution_count": null,
   "metadata": {},
   "outputs": [],
   "source": [
    "# visualize the silhouette scores calculated while finding the optimum number of column clusters\n",
    "benchmarker.VisualizeSilhouetteScores()"
   ]
  },
  {
   "cell_type": "code",
   "execution_count": null,
   "metadata": {},
   "outputs": [],
   "source": [
    "# visualize the predicted number of columns in the full disjunction vs. the actual number of columns\n",
    "benchmarker.VisualizeClusterStatistics('pre', 'act', scatter=True, with_reg=True)"
   ]
  },
  {
   "cell_type": "code",
   "execution_count": null,
   "metadata": {},
   "outputs": [],
   "source": [
    "# visualize the number of input tables vs the clustering precision\n",
    "benchmarker.VisualizeClusterStatistics('tc', 'p', scatter=True, with_reg=True)"
   ]
  },
  {
   "cell_type": "code",
   "execution_count": null,
   "metadata": {},
   "outputs": [],
   "source": [
    "# visualize the total column count of all input tables vs the clustering precision\n",
    "benchmarker.VisualizeClusterStatistics('max', 'p', scatter=True, with_reg=True)"
   ]
  },
  {
   "cell_type": "code",
   "execution_count": null,
   "metadata": {},
   "outputs": [],
   "source": [
    "# visualize the number of columns in the full disjunction vs the clustering precision\n",
    "benchmarker.VisualizeClusterStatistics('act', 'p', scatter=True, with_reg=True)"
   ]
  },
  {
   "cell_type": "code",
   "execution_count": null,
   "metadata": {},
   "outputs": [],
   "source": [
    "# visualize the number of input tables vs the clustering recall\n",
    "benchmarker.VisualizeClusterStatistics('tc', 'r', scatter=True, with_reg=True)"
   ]
  },
  {
   "cell_type": "code",
   "execution_count": null,
   "metadata": {},
   "outputs": [],
   "source": [
    "# visualize the total column count of all input tables vs the clustering recall\n",
    "benchmarker.VisualizeClusterStatistics('max', 'r', scatter=True, with_reg=True)"
   ]
  },
  {
   "cell_type": "code",
   "execution_count": null,
   "metadata": {},
   "outputs": [],
   "source": [
    "# visualize the number of columns in the full disjunction vs the clustering recall\n",
    "benchmarker.VisualizeClusterStatistics('act', 'r', scatter=True, with_reg=True)"
   ]
  },
  {
   "cell_type": "code",
   "execution_count": null,
   "metadata": {},
   "outputs": [],
   "source": [
    "# visualize the precision-recall curve of the column clustering\n",
    "benchmarker.VisualizeClusterStatistics('r', 'p', scatter=False, with_reg=False)"
   ]
  },
  {
   "cell_type": "code",
   "execution_count": null,
   "metadata": {},
   "outputs": [],
   "source": [
    "# Calculate the average clustering statistics for all datasets\n",
    "avg_precision = 0\n",
    "avg_recall = 0\n",
    "avg_accuracy = 0\n",
    "avg_f1 = 0\n",
    "avg_ratio = 0       # ratio between predicted and actual number of columns in the full disjunction\n",
    "samples = 0\n",
    "for dataset in benchmarker.ClusterQuality:\n",
    "    _, _, _, _, precision, recall, accuracy, f1 = benchmarker.ClusterQuality[dataset]\n",
    "    _, _, _, predicted, actual = benchmarker.ClusterParameters[dataset]\n",
    "    avg_precision += precision\n",
    "    avg_recall += recall\n",
    "    avg_accuracy += accuracy\n",
    "    avg_f1 += f1\n",
    "    avg_ratio += (predicted / actual)\n",
    "    samples += 1\n",
    "avg_precision /= samples\n",
    "avg_recall /= samples\n",
    "avg_accuracy /= samples\n",
    "avg_f1 /= samples\n",
    "avg_ratio /= samples\n",
    "\n",
    "print(f\"Average Precision: {avg_precision}\")\n",
    "print(f\"Average Recall: {avg_recall}\")\n",
    "print(f\"Average Accuracy: {avg_accuracy}\")\n",
    "print(f\"Average F1 Score: {avg_f1}\")\n",
    "print(f\"Average Predicted vs. Actual Column Count Ratio: {avg_ratio}\")"
   ]
  }
 ],
 "metadata": {
  "kernelspec": {
   "display_name": "Python 3",
   "language": "python",
   "name": "python3"
  },
  "language_info": {
   "codemirror_mode": {
    "name": "ipython",
    "version": 3
   },
   "file_extension": ".py",
   "mimetype": "text/x-python",
   "name": "python",
   "nbconvert_exporter": "python",
   "pygments_lexer": "ipython3",
   "version": "3.11.3"
  }
 },
 "nbformat": 4,
 "nbformat_minor": 2
}
