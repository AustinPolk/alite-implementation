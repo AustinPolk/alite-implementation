{
 "cells": [
  {
   "cell_type": "code",
   "execution_count": null,
   "metadata": {},
   "outputs": [],
   "source": [
    "from benchmark import Benchmarker\n",
    "import os\n",
    "\n",
    "# folders containing the relevant benchmarks\n",
    "align_benchmark = os.path.join('Benchmark', 'Align Benchmark')\n",
    "integration_benchmark = os.path.join('Benchmark', 'Real Benchmark')\n",
    "\n",
    "# create and run all of the benchmarks\n",
    "benchmarker = Benchmarker()\n",
    "benchmarker.RunBenchmarks(align_benchmark, integration_benchmark)"
   ]
  },
  {
   "cell_type": "code",
   "execution_count": null,
   "metadata": {},
   "outputs": [],
   "source": [
    "# visualize the runtime of ALITE across multiple datasets\n",
    "benchmarker.VisualizeDuration()"
   ]
  },
  {
   "cell_type": "code",
   "execution_count": null,
   "metadata": {},
   "outputs": [],
   "source": [
    "# visualize the runtime of ALITE versus the number of input tuples in the database\n",
    "benchmarker.VisualizeRuntimePerTuple(inputTuples=True)"
   ]
  },
  {
   "cell_type": "code",
   "execution_count": null,
   "metadata": {},
   "outputs": [],
   "source": [
    "# visualize the runtime of ALITE versus the size of the full disjunction\n",
    "benchmarker.VisualizeRuntimePerTuple(inputTuples=False)"
   ]
  },
  {
   "cell_type": "code",
   "execution_count": null,
   "metadata": {},
   "outputs": [],
   "source": [
    "# visualize the silhouette scores calculated while finding the optimum number of column clusters\n",
    "benchmarker.VisualizeSilhouetteScores()"
   ]
  },
  {
   "cell_type": "code",
   "execution_count": null,
   "metadata": {},
   "outputs": [],
   "source": [
    "# visualize the predicted number of columns in the full disjunction vs. the actual number of columns\n",
    "benchmarker.VisualizeClusterStatistics('pre', 'act', scatter=True, with_reg=True)"
   ]
  },
  {
   "cell_type": "code",
   "execution_count": null,
   "metadata": {},
   "outputs": [],
   "source": [
    "# visualize the number of input tables vs the clustering precision\n",
    "benchmarker.VisualizeClusterStatistics('tc', 'p', scatter=True, with_reg=True)"
   ]
  },
  {
   "cell_type": "code",
   "execution_count": null,
   "metadata": {},
   "outputs": [],
   "source": [
    "# visualize the total column count of all input tables vs the clustering precision\n",
    "benchmarker.VisualizeClusterStatistics('max', 'p', scatter=True, with_reg=True)"
   ]
  },
  {
   "cell_type": "code",
   "execution_count": null,
   "metadata": {},
   "outputs": [],
   "source": [
    "# visualize the number of columns in the full disjunction vs the clustering precision\n",
    "benchmarker.VisualizeClusterStatistics('act', 'p', scatter=True, with_reg=True)"
   ]
  },
  {
   "cell_type": "code",
   "execution_count": null,
   "metadata": {},
   "outputs": [],
   "source": [
    "# visualize the number of input tables vs the clustering recall\n",
    "benchmarker.VisualizeClusterStatistics('tc', 'r', scatter=True, with_reg=True)"
   ]
  },
  {
   "cell_type": "code",
   "execution_count": null,
   "metadata": {},
   "outputs": [],
   "source": [
    "# visualize the total column count of all input tables vs the clustering recall\n",
    "benchmarker.VisualizeClusterStatistics('max', 'r', scatter=True, with_reg=True)"
   ]
  },
  {
   "cell_type": "code",
   "execution_count": null,
   "metadata": {},
   "outputs": [],
   "source": [
    "# visualize the number of columns in the full disjunction vs the clustering recall\n",
    "benchmarker.VisualizeClusterStatistics('act', 'r', scatter=True, with_reg=True)"
   ]
  },
  {
   "cell_type": "code",
   "execution_count": null,
   "metadata": {},
   "outputs": [],
   "source": [
    "# visualize the precision-recall curve of the column clustering\n",
    "benchmarker.VisualizeClusterStatistics('r', 'p', scatter=False, with_reg=False)"
   ]
  }
 ],
 "metadata": {
  "kernelspec": {
   "display_name": "Python 3",
   "language": "python",
   "name": "python3"
  },
  "language_info": {
   "name": "python",
   "version": "3.11.3"
  }
 },
 "nbformat": 4,
 "nbformat_minor": 2
}
