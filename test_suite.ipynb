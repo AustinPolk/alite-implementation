{
 "cells": [
  {
   "cell_type": "code",
   "execution_count": null,
   "metadata": {},
   "outputs": [],
   "source": [
    "# Install all packeges\n",
    "import sys\n",
    "\n",
    "# Upgrades pip to latest\n",
    "%pip install --upgrade pip\n",
    "\n",
    "# Install using requirements.txt\n",
    "%pip install -r requirements.txt"
   ]
  },
  {
   "cell_type": "code",
   "execution_count": null,
   "metadata": {},
   "outputs": [],
   "source": [
    "from benchmark import Benchmarker\n",
    "from database import RelationalDatabase\n",
    "import os\n",
    "\n",
    "# folders containing the relevant benchmarks\n",
    "align_benchmark = os.path.join('Benchmark', 'Selected Align Benchmark')\n",
    "integration_benchmark = os.path.join('Benchmark', 'Selected Real Benchmark')\n",
    "\n",
    "# create the benchmarking instance\n",
    "benchmarker = Benchmarker()\n"
   ]
  },
  {
   "cell_type": "code",
   "execution_count": null,
   "metadata": {},
   "outputs": [],
   "source": [
    "# run all align benchmarks\n",
    "benchmarker.RunBenchmarks(align_benchmark, None)"
   ]
  },
  {
   "cell_type": "code",
   "execution_count": null,
   "metadata": {},
   "outputs": [],
   "source": [
    "# run all real benchmarks\n",
    "benchmarker.RunBenchmarks(None, integration_benchmark)"
   ]
  },
  {
   "cell_type": "code",
   "execution_count": null,
   "metadata": {},
   "outputs": [],
   "source": [
    "\n",
    "# run selected align benchmarks if desired\n",
    "selected = ['pubs', 'us_politicians', 'wholesale_markets']\n",
    "for dataset_name in selected:\n",
    "    dataset_path = os.path.join(align_benchmark, dataset_name)\n",
    "    database = RelationalDatabase()\n",
    "    database.LoadFromFolder(dataset_path)\n",
    "    benchmarker.ClusteringQualityStatistics(database, dataset_name)\n"
   ]
  },
  {
   "cell_type": "code",
   "execution_count": null,
   "metadata": {},
   "outputs": [],
   "source": [
    "\n",
    "# run selected real benchmarks if desired\n",
    "selected = ['chicago_parks', 'stockport-contracts']\n",
    "for dataset_name in selected:\n",
    "    dataset_path = os.path.join(integration_benchmark, dataset_name)\n",
    "    database = RelationalDatabase()\n",
    "    database.LoadFromFolder(dataset_path)\n",
    "    benchmarker.Benchmark2(database, dataset_name, 'ALITE')"
   ]
  },
  {
   "cell_type": "code",
   "execution_count": null,
   "metadata": {},
   "outputs": [],
   "source": [
    "# visualize the runtime of ALITE across multiple datasets\n",
    "benchmarker.VisualizeDuration()"
   ]
  },
  {
   "cell_type": "code",
   "execution_count": null,
   "metadata": {},
   "outputs": [],
   "source": [
    "# visualize the runtime of ALITE versus the number of input tuples in the database\n",
    "benchmarker.VisualizeRuntimePerTuple(inputTuples=True)"
   ]
  },
  {
   "cell_type": "code",
   "execution_count": null,
   "metadata": {},
   "outputs": [],
   "source": [
    "# visualize the silhouette scores calculated while finding the optimum number of column clusters\n",
    "benchmarker.VisualizeSilhouetteScores('archives')"
   ]
  },
  {
   "cell_type": "code",
   "execution_count": null,
   "metadata": {},
   "outputs": [],
   "source": [
    "# visualize the predicted number of columns in the full disjunction vs. the actual number of columns\n",
    "benchmarker.VisualizeClusterStatistics('pre', 'act', scatter=True, with_reg=True)"
   ]
  },
  {
   "cell_type": "code",
   "execution_count": null,
   "metadata": {},
   "outputs": [],
   "source": [
    "# visualize the duration of column clustering vs the number of columns in the original database\n",
    "benchmarker.VisualizeClusterStatistics('max', 'dur', scatter=True, with_reg=True)"
   ]
  },
  {
   "cell_type": "code",
   "execution_count": null,
   "metadata": {},
   "outputs": [],
   "source": [
    "# Calculate the average clustering statistics for all datasets\n",
    "avg_precision = 0\n",
    "avg_recall = 0\n",
    "avg_accuracy = 0\n",
    "avg_f1 = 0\n",
    "avg_ratio = 0       # ratio between predicted and actual number of columns in the full disjunction\n",
    "samples = 0\n",
    "for dataset in benchmarker.ClusterQuality:\n",
    "    _, _, _, _, precision, recall, accuracy, f1 = benchmarker.ClusterQuality[dataset]\n",
    "    _, _, _, predicted, actual = benchmarker.ClusterParameters[dataset]\n",
    "    avg_precision += precision\n",
    "    avg_recall += recall\n",
    "    avg_accuracy += accuracy\n",
    "    avg_f1 += f1\n",
    "    avg_ratio += (predicted / actual)\n",
    "    samples += 1\n",
    "avg_precision /= samples\n",
    "avg_recall /= samples\n",
    "avg_accuracy /= samples\n",
    "avg_f1 /= samples\n",
    "avg_ratio /= samples\n",
    "\n",
    "print(f\"Average Precision: {avg_precision}\")\n",
    "print(f\"Average Recall: {avg_recall}\")\n",
    "print(f\"Average Accuracy: {avg_accuracy}\")\n",
    "print(f\"Average F1 Score: {avg_f1}\")\n",
    "print(f\"Average Predicted vs. Actual Column Count Ratio: {avg_ratio}\")\n"
   ]
  }
 ],
 "metadata": {
  "kernelspec": {
   "display_name": "Python 3",
   "language": "python",
   "name": "python3"
  },
  "language_info": {
   "codemirror_mode": {
    "name": "ipython",
    "version": 3
   },
   "file_extension": ".py",
   "mimetype": "text/x-python",
   "name": "python",
   "nbconvert_exporter": "python",
   "pygments_lexer": "ipython3",
   "version": "3.10.11"
  }
 },
 "nbformat": 4,
 "nbformat_minor": 2
}
