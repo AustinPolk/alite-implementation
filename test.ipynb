{
 "cells": [
  {
   "cell_type": "code",
   "execution_count": 1,
   "metadata": {},
   "outputs": [],
   "source": [
    "%load_ext autoreload\n",
    "%autoreload 2"
   ]
  },
  {
   "cell_type": "code",
   "execution_count": null,
   "metadata": {},
   "outputs": [],
   "source": [
    "# Install all packeges\n",
    "import sys\n",
    "\n",
    "# Upgrades pip to latest\n",
    "%pip install --upgrade pip\n",
    "\n",
    "# Required packages\n",
    "%pip install numpy \n",
    "%pip install pandas\n",
    "%pip install sentence_transformers\n",
    "\n",
    "# If needed\n",
    "# %pip install matplotlib"
   ]
  },
  {
   "cell_type": "code",
   "execution_count": null,
   "metadata": {},
   "outputs": [],
   "source": [
    "from database import RelationalDatabase\n",
    "from table import RelationalTable"
   ]
  },
  {
   "cell_type": "code",
   "execution_count": null,
   "metadata": {},
   "outputs": [],
   "source": [
    "from benchmark import Benchmarker\n",
    "import os\n",
    "\n",
    "bm = Benchmarker()\n",
    "db = RelationalDatabase()\n",
    "db.LoadFromFolder(\"Benchmark/Real Benchmark/school_report\")\n",
    "bm.Benchmark2(db, \"Benchmark/Real Benchmark/school_report\", \"ALITE\")"
   ]
  },
  {
   "cell_type": "code",
   "execution_count": null,
   "metadata": {},
   "outputs": [],
   "source": [
    "from benchmark import Benchmarker\n",
    "import os\n",
    "\n",
    "bm = Benchmarker()\n",
    "db = RelationalDatabase()\n",
    "db.LoadFromFolder(\"Benchmark/Minimum/500spend\")\n",
    "bm.Benchmark2(db, \"Benchmark/Minimum/500spend\", \"ALITE\")"
   ]
  },
  {
   "cell_type": "code",
   "execution_count": null,
   "metadata": {},
   "outputs": [],
   "source": [
    "bm.VisualizeDuration()"
   ]
  },
  {
   "cell_type": "code",
   "execution_count": null,
   "metadata": {},
   "outputs": [],
   "source": [
    "bm.VisualizeRuntimePerTuple(inputTuples=True, reg_deg=1)"
   ]
  }
 ],
 "metadata": {
  "kernelspec": {
   "display_name": "Python 3",
   "language": "python",
   "name": "python3"
  },
  "language_info": {
   "codemirror_mode": {
    "name": "ipython",
    "version": 3
   },
   "file_extension": ".py",
   "mimetype": "text/x-python",
   "name": "python",
   "nbconvert_exporter": "python",
   "pygments_lexer": "ipython3",
   "version": "3.12.0"
  }
 },
 "nbformat": 4,
 "nbformat_minor": 2
}
